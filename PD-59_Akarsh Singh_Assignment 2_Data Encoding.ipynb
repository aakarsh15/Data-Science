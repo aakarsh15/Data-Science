{
  "nbformat": 4,
  "nbformat_minor": 0,
  "metadata": {
    "colab": {
      "provenance": []
    },
    "kernelspec": {
      "name": "python3",
      "display_name": "Python 3"
    },
    "language_info": {
      "name": "python"
    }
  },
  "cells": [
    {
      "cell_type": "markdown",
      "source": [
        "Name- Akarsh Singh\n",
        "\n",
        "Roll No.- 59\n",
        "\n",
        "PRN- 1032212466\n",
        "\n",
        "Panel- D         Batch- D2\n",
        "\n",
        "Subject- DEC\n",
        "\n",
        "Assignment No.- 2"
      ],
      "metadata": {
        "id": "GOyK27ApjVkd"
      }
    },
    {
      "cell_type": "markdown",
      "source": [
        "**TARGET ENCODING**\n",
        "\n",
        "---\n",
        "Target Encoding, also known as Mean Encoding, is a technique used in supervised learning, primarily for classification tasks.\n",
        "\n",
        " In this encoding method, categorical values are replaced with the mean of the target variable (the variable you want to predict) for each category.\n",
        "\n",
        " It helps capture the relationship between the categorical feature and the target variable.\n"
      ],
      "metadata": {
        "id": "0JJjXQMNkI_F"
      }
    },
    {
      "cell_type": "code",
      "source": [
        "import pandas as pd\n",
        "data = {\"Subject\":['Accounts','Business','Economics','Business','Economics','Accounts','Accounts','Accounts'],\n",
        "        \"Marks\":[ 50,30,70,80,45,97,80,68]}\n",
        "block = pd.DataFrame(data)"
      ],
      "metadata": {
        "id": "H1nQ18VekQGU"
      },
      "execution_count": 1,
      "outputs": []
    },
    {
      "cell_type": "code",
      "source": [
        "pip install category-encoders"
      ],
      "metadata": {
        "colab": {
          "base_uri": "https://localhost:8080/"
        },
        "id": "To-8QEuhkX_m",
        "outputId": "3f240842-3b10-44c8-e818-f6aaa61e517e"
      },
      "execution_count": 2,
      "outputs": [
        {
          "output_type": "stream",
          "name": "stdout",
          "text": [
            "Collecting category-encoders\n",
            "  Downloading category_encoders-2.6.3-py2.py3-none-any.whl (81 kB)\n",
            "\u001b[?25l     \u001b[90m━━━━━━━━━━━━━━━━━━━━━━━━━━━━━━━━━━━━━━━━\u001b[0m \u001b[32m0.0/81.9 kB\u001b[0m \u001b[31m?\u001b[0m eta \u001b[36m-:--:--\u001b[0m\r\u001b[2K     \u001b[90m━━━━━━━━━━━━━━━━━━━━━━━━━━━━━━━━━━━━━━━━\u001b[0m \u001b[32m81.9/81.9 kB\u001b[0m \u001b[31m2.7 MB/s\u001b[0m eta \u001b[36m0:00:00\u001b[0m\n",
            "\u001b[?25hRequirement already satisfied: numpy>=1.14.0 in /usr/local/lib/python3.10/dist-packages (from category-encoders) (1.23.5)\n",
            "Requirement already satisfied: scikit-learn>=0.20.0 in /usr/local/lib/python3.10/dist-packages (from category-encoders) (1.2.2)\n",
            "Requirement already satisfied: scipy>=1.0.0 in /usr/local/lib/python3.10/dist-packages (from category-encoders) (1.11.3)\n",
            "Requirement already satisfied: statsmodels>=0.9.0 in /usr/local/lib/python3.10/dist-packages (from category-encoders) (0.14.0)\n",
            "Requirement already satisfied: pandas>=1.0.5 in /usr/local/lib/python3.10/dist-packages (from category-encoders) (1.5.3)\n",
            "Requirement already satisfied: patsy>=0.5.1 in /usr/local/lib/python3.10/dist-packages (from category-encoders) (0.5.3)\n",
            "Requirement already satisfied: python-dateutil>=2.8.1 in /usr/local/lib/python3.10/dist-packages (from pandas>=1.0.5->category-encoders) (2.8.2)\n",
            "Requirement already satisfied: pytz>=2020.1 in /usr/local/lib/python3.10/dist-packages (from pandas>=1.0.5->category-encoders) (2023.3.post1)\n",
            "Requirement already satisfied: six in /usr/local/lib/python3.10/dist-packages (from patsy>=0.5.1->category-encoders) (1.16.0)\n",
            "Requirement already satisfied: joblib>=1.1.1 in /usr/local/lib/python3.10/dist-packages (from scikit-learn>=0.20.0->category-encoders) (1.3.2)\n",
            "Requirement already satisfied: threadpoolctl>=2.0.0 in /usr/local/lib/python3.10/dist-packages (from scikit-learn>=0.20.0->category-encoders) (3.2.0)\n",
            "Requirement already satisfied: packaging>=21.3 in /usr/local/lib/python3.10/dist-packages (from statsmodels>=0.9.0->category-encoders) (23.2)\n",
            "Installing collected packages: category-encoders\n",
            "Successfully installed category-encoders-2.6.3\n"
          ]
        }
      ]
    },
    {
      "cell_type": "code",
      "source": [
        "import pandas as pd\n",
        "import category_encoders as ce\n",
        "df = pd.DataFrame(data)\n",
        "encoder = ce.TargetEncoder(cols=['Subject'])\n",
        "df_encoded = encoder.fit_transform(df, df['Marks'])\n",
        "print(df_encoded)"
      ],
      "metadata": {
        "colab": {
          "base_uri": "https://localhost:8080/"
        },
        "id": "W8mz9SAIkdmD",
        "outputId": "442fa080-623d-4498-db3a-d93c3310b14f"
      },
      "execution_count": 3,
      "outputs": [
        {
          "output_type": "stream",
          "name": "stdout",
          "text": [
            "     Subject  Marks\n",
            "0  66.469839     50\n",
            "1  63.581489     30\n",
            "2  63.936117     70\n",
            "3  63.581489     80\n",
            "4  63.936117     45\n",
            "5  66.469839     97\n",
            "6  66.469839     80\n",
            "7  66.469839     68\n"
          ]
        }
      ]
    },
    {
      "cell_type": "markdown",
      "source": [
        "**Binary Encoding**\n",
        "\n",
        "---\n",
        "\n",
        "\n",
        "Binary Encoding is a method used to encode categorical variables by converting categories into binary code. Each category is represented as a unique combination of binary digits, making it useful for datasets with many categories. It reduces the dimensionality of the data compared to one-hot encoding while still allowing the model to capture some of the categorical information."
      ],
      "metadata": {
        "id": "ZKRfvxAJkjO-"
      }
    },
    {
      "cell_type": "code",
      "source": [
        "pip install category_encoders"
      ],
      "metadata": {
        "colab": {
          "base_uri": "https://localhost:8080/"
        },
        "id": "7DZyZ_XIkkqL",
        "outputId": "5e653f1c-87e0-4976-c9aa-8748a25d94f8"
      },
      "execution_count": 4,
      "outputs": [
        {
          "output_type": "stream",
          "name": "stdout",
          "text": [
            "Requirement already satisfied: category_encoders in /usr/local/lib/python3.10/dist-packages (2.6.3)\n",
            "Requirement already satisfied: numpy>=1.14.0 in /usr/local/lib/python3.10/dist-packages (from category_encoders) (1.23.5)\n",
            "Requirement already satisfied: scikit-learn>=0.20.0 in /usr/local/lib/python3.10/dist-packages (from category_encoders) (1.2.2)\n",
            "Requirement already satisfied: scipy>=1.0.0 in /usr/local/lib/python3.10/dist-packages (from category_encoders) (1.11.3)\n",
            "Requirement already satisfied: statsmodels>=0.9.0 in /usr/local/lib/python3.10/dist-packages (from category_encoders) (0.14.0)\n",
            "Requirement already satisfied: pandas>=1.0.5 in /usr/local/lib/python3.10/dist-packages (from category_encoders) (1.5.3)\n",
            "Requirement already satisfied: patsy>=0.5.1 in /usr/local/lib/python3.10/dist-packages (from category_encoders) (0.5.3)\n",
            "Requirement already satisfied: python-dateutil>=2.8.1 in /usr/local/lib/python3.10/dist-packages (from pandas>=1.0.5->category_encoders) (2.8.2)\n",
            "Requirement already satisfied: pytz>=2020.1 in /usr/local/lib/python3.10/dist-packages (from pandas>=1.0.5->category_encoders) (2023.3.post1)\n",
            "Requirement already satisfied: six in /usr/local/lib/python3.10/dist-packages (from patsy>=0.5.1->category_encoders) (1.16.0)\n",
            "Requirement already satisfied: joblib>=1.1.1 in /usr/local/lib/python3.10/dist-packages (from scikit-learn>=0.20.0->category_encoders) (1.3.2)\n",
            "Requirement already satisfied: threadpoolctl>=2.0.0 in /usr/local/lib/python3.10/dist-packages (from scikit-learn>=0.20.0->category_encoders) (3.2.0)\n",
            "Requirement already satisfied: packaging>=21.3 in /usr/local/lib/python3.10/dist-packages (from statsmodels>=0.9.0->category_encoders) (23.2)\n"
          ]
        }
      ]
    },
    {
      "cell_type": "code",
      "source": [
        "import category_encoders as ce\n",
        "import pandas as pd\n",
        "data = pd.DataFrame({'Country': ['Dubai', 'Malaysia', 'Hungary', 'China', 'Bhutan', 'Dubai', 'Hungary', 'Malaysia', 'Australia']})"
      ],
      "metadata": {
        "id": "_IVhuPztkpMA"
      },
      "execution_count": 5,
      "outputs": []
    },
    {
      "cell_type": "code",
      "source": [
        "encoder = ce.BinaryEncoder(cols=['Country'], return_df=True)\n",
        "encoded_data = encoder.fit_transform(data)\n",
        "print('\\nDataFrame after Binary Encoding:')\n",
        "print(encoded_data)"
      ],
      "metadata": {
        "colab": {
          "base_uri": "https://localhost:8080/"
        },
        "id": "Rc4Sn8tKkwVu",
        "outputId": "4209376d-2cdd-4bd2-fe1b-27e060e06208"
      },
      "execution_count": 6,
      "outputs": [
        {
          "output_type": "stream",
          "name": "stdout",
          "text": [
            "\n",
            "DataFrame after Binary Encoding:\n",
            "   Country_0  Country_1  Country_2\n",
            "0          0          0          1\n",
            "1          0          1          0\n",
            "2          0          1          1\n",
            "3          1          0          0\n",
            "4          1          0          1\n",
            "5          0          0          1\n",
            "6          0          1          1\n",
            "7          0          1          0\n",
            "8          1          1          0\n"
          ]
        }
      ]
    },
    {
      "cell_type": "markdown",
      "source": [
        "**Dummy Encoding**\n",
        "\n",
        "---\n",
        "\n",
        "\n",
        "Dummy Encoding, also known as One-Hot Encoding, is a technique used to convert categorical variables into binary (0 or 1) values.\n",
        "\n",
        " It creates a binary column for each category in the categorical feature. Each category is represented as a separate column, and the presence of the category is indicated by 1, while its absence is indicated by 0.\n",
        "\n",
        " Dummy encoding is suitable for nominal categorical variables (categories with no inherent order)."
      ],
      "metadata": {
        "id": "miNpyRSDk0De"
      }
    },
    {
      "cell_type": "code",
      "source": [
        "data = {\n",
        "    'Index': ['0','1', '2', '3', '4', '5'],\n",
        "    'Temprature': ['Hot', 'Cold', 'Warm', 'Very Hot', 'Hot','Warm']\n",
        "}\n",
        "df = pd.DataFrame(data)\n",
        "print(df)"
      ],
      "metadata": {
        "colab": {
          "base_uri": "https://localhost:8080/"
        },
        "id": "evIYzX1Rk2nH",
        "outputId": "dfbe8e13-d931-4600-9f19-02239c91c9e2"
      },
      "execution_count": 7,
      "outputs": [
        {
          "output_type": "stream",
          "name": "stdout",
          "text": [
            "  Index Temprature\n",
            "0     0        Hot\n",
            "1     1       Cold\n",
            "2     2       Warm\n",
            "3     3   Very Hot\n",
            "4     4        Hot\n",
            "5     5       Warm\n"
          ]
        }
      ]
    },
    {
      "cell_type": "code",
      "source": [
        "import pandas as pd\n",
        "df_encoded = pd.get_dummies(df, columns=['Index'], prefix=['Index'])\n",
        "print('\\nDataFrame after Dummy Encoding:')\n",
        "print(df_encoded)"
      ],
      "metadata": {
        "colab": {
          "base_uri": "https://localhost:8080/"
        },
        "id": "ZkmIIGddk5rn",
        "outputId": "3485dd5c-0d12-407a-d1d4-7e58081eed2f"
      },
      "execution_count": 8,
      "outputs": [
        {
          "output_type": "stream",
          "name": "stdout",
          "text": [
            "\n",
            "DataFrame after Dummy Encoding:\n",
            "  Temprature  Index_0  Index_1  Index_2  Index_3  Index_4  Index_5\n",
            "0        Hot        1        0        0        0        0        0\n",
            "1       Cold        0        1        0        0        0        0\n",
            "2       Warm        0        0        1        0        0        0\n",
            "3   Very Hot        0        0        0        1        0        0\n",
            "4        Hot        0        0        0        0        1        0\n",
            "5       Warm        0        0        0        0        0        1\n"
          ]
        }
      ]
    },
    {
      "cell_type": "markdown",
      "source": [
        "**ONE HOT ENCODING**\n",
        "\n",
        "---\n",
        "\n",
        "One-Hot Encoding is a specific type of Dummy Encoding.\n",
        "\n",
        "It creates binary columns for each category in a categorical feature, similar to Dummy Encoding.\n",
        "\n",
        " However, it's used when there is no ordinal relationship among the categories.\n",
        "\n",
        "  One-hot encoding is suitable for nominal data where all categories are equally important."
      ],
      "metadata": {
        "id": "qAUMIk5qk8fK"
      }
    },
    {
      "cell_type": "code",
      "source": [
        "data = {\n",
        "    'Index': ['0', '1', '2', '3', '4'],\n",
        "    'Color': ['Red', 'Blue', 'Yellow', 'Green', 'Black']\n",
        "}\n",
        "df3 = pd.DataFrame(data)\n",
        "print(df3)"
      ],
      "metadata": {
        "colab": {
          "base_uri": "https://localhost:8080/"
        },
        "id": "HscdA2hXk9k5",
        "outputId": "772ffb7f-540d-4a94-fdf6-c5ad94e777ac"
      },
      "execution_count": 9,
      "outputs": [
        {
          "output_type": "stream",
          "name": "stdout",
          "text": [
            "  Index   Color\n",
            "0     0     Red\n",
            "1     1    Blue\n",
            "2     2  Yellow\n",
            "3     3   Green\n",
            "4     4   Black\n"
          ]
        }
      ]
    },
    {
      "cell_type": "code",
      "source": [
        "data = {\n",
        "    'Index': ['0', '1', '2', '3', '4'],\n",
        "    'Color': ['Red', 'Blue', 'Yellow', 'Green', 'Black']\n",
        "}\n",
        "df3 = pd.DataFrame(data)\n",
        "print(df3)"
      ],
      "metadata": {
        "colab": {
          "base_uri": "https://localhost:8080/"
        },
        "id": "eXPDKReclBYD",
        "outputId": "152cb354-3ac8-4a92-c7f0-10ed33dffa18"
      },
      "execution_count": 10,
      "outputs": [
        {
          "output_type": "stream",
          "name": "stdout",
          "text": [
            "  Index   Color\n",
            "0     0     Red\n",
            "1     1    Blue\n",
            "2     2  Yellow\n",
            "3     3   Green\n",
            "4     4   Black\n"
          ]
        }
      ]
    },
    {
      "cell_type": "markdown",
      "source": [
        "**LABEL ENCODING**\n",
        "\n",
        "---\n",
        "\n",
        "Label Encoding is a method to convert categorical data into numerical values by assigning a unique integer to each category.\n",
        "\n",
        " It's suitable for categorical variables with ordinal relationships, where there is a natural order among the categories.\n",
        "\n",
        " It's essential to be cautious when using label encoding because it can imply ordinal relationships that may not exist in the data."
      ],
      "metadata": {
        "id": "_RlVs1-plEC4"
      }
    },
    {
      "cell_type": "code",
      "source": [
        "import pandas as pd\n",
        "data = {\"Departments\":['Production','Finance','IT','Marketing','Finance','IT','IT','Human Resource','Finance']}\n",
        "block = pd.DataFrame(data)\n",
        "print(block)"
      ],
      "metadata": {
        "colab": {
          "base_uri": "https://localhost:8080/"
        },
        "id": "Fhx08VzYlFOs",
        "outputId": "8942d2c2-265a-442d-8615-b3dfa9522f1f"
      },
      "execution_count": 11,
      "outputs": [
        {
          "output_type": "stream",
          "name": "stdout",
          "text": [
            "      Departments\n",
            "0      Production\n",
            "1         Finance\n",
            "2              IT\n",
            "3       Marketing\n",
            "4         Finance\n",
            "5              IT\n",
            "6              IT\n",
            "7  Human Resource\n",
            "8         Finance\n"
          ]
        }
      ]
    },
    {
      "cell_type": "code",
      "source": [
        "from sklearn import preprocessing\n",
        "label = preprocessing.LabelEncoder()\n",
        "block['Departmemts']= label.fit_transform(block['Departments'])\n",
        "print('\\nDataFrame after Label Encoding:')\n",
        "print(block)"
      ],
      "metadata": {
        "colab": {
          "base_uri": "https://localhost:8080/"
        },
        "id": "vLpq_-xElJJJ",
        "outputId": "8a008b90-cdb0-40f4-ec49-15eb07d8f11b"
      },
      "execution_count": 12,
      "outputs": [
        {
          "output_type": "stream",
          "name": "stdout",
          "text": [
            "\n",
            "DataFrame after Label Encoding:\n",
            "      Departments  Departmemts\n",
            "0      Production            4\n",
            "1         Finance            0\n",
            "2              IT            2\n",
            "3       Marketing            3\n",
            "4         Finance            0\n",
            "5              IT            2\n",
            "6              IT            2\n",
            "7  Human Resource            1\n",
            "8         Finance            0\n"
          ]
        }
      ]
    }
  ]
}