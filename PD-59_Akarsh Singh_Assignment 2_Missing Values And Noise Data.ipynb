{
  "nbformat": 4,
  "nbformat_minor": 0,
  "metadata": {
    "colab": {
      "provenance": []
    },
    "kernelspec": {
      "name": "python3",
      "display_name": "Python 3"
    },
    "language_info": {
      "name": "python"
    }
  },
  "cells": [
    {
      "cell_type": "markdown",
      "source": [
        "Name- Akarsh Singh\n",
        "\n",
        "Roll No.- 59\n",
        "\n",
        "PRN- 1032212466\n",
        "\n",
        "Panel- D                        Batch- D2\n",
        "\n",
        "Subject- DEC\n",
        "\n",
        "Assignment No.- 2"
      ],
      "metadata": {
        "id": "nV047DqHrP9N"
      }
    },
    {
      "cell_type": "markdown",
      "source": [
        "Missing Values And Noise Data"
      ],
      "metadata": {
        "id": "n4xG5FLWrXog"
      }
    },
    {
      "cell_type": "markdown",
      "source": [
        "**1) Importing Libraries and Creating a Sample Dataset**"
      ],
      "metadata": {
        "id": "w73PPMsKreIl"
      }
    },
    {
      "cell_type": "code",
      "source": [
        "import pandas as pd\n",
        "from sklearn.impute import SimpleImputer\n",
        "\n",
        "data = {\n",
        "    'Age': [22, 28, None, 31, 45, 50],\n",
        "    'Income': [48000, 55000, 60000, None, 75000, 90000],\n",
        "    'Education': ['Bachelor', 'Master', 'Bachelor', 'PhD', None, 'Master']\n",
        "}\n",
        "\n",
        "df = pd.DataFrame(data)\n",
        "print(df)\n"
      ],
      "metadata": {
        "colab": {
          "base_uri": "https://localhost:8080/"
        },
        "id": "5UdG-6Lkrg7b",
        "outputId": "898072cb-7860-4c78-e854-0b0f98d2cfa8"
      },
      "execution_count": 1,
      "outputs": [
        {
          "output_type": "stream",
          "name": "stdout",
          "text": [
            "    Age   Income Education\n",
            "0  22.0  48000.0  Bachelor\n",
            "1  28.0  55000.0    Master\n",
            "2   NaN  60000.0  Bachelor\n",
            "3  31.0      NaN       PhD\n",
            "4  45.0  75000.0      None\n",
            "5  50.0  90000.0    Master\n"
          ]
        }
      ]
    },
    {
      "cell_type": "markdown",
      "source": [
        "**2) Finding Columns with Missing Values**"
      ],
      "metadata": {
        "id": "ruKN-PO0sjtP"
      }
    },
    {
      "cell_type": "code",
      "source": [
        "x= df.columns[df.isna().any()].tolist()\n",
        "print(x)"
      ],
      "metadata": {
        "colab": {
          "base_uri": "https://localhost:8080/"
        },
        "id": "JTyAV_iDsgeS",
        "outputId": "ccbad207-b612-436f-9e13-aede76fd22ae"
      },
      "execution_count": 2,
      "outputs": [
        {
          "output_type": "stream",
          "name": "stdout",
          "text": [
            "['Age', 'Income', 'Education']\n"
          ]
        }
      ]
    },
    {
      "cell_type": "markdown",
      "source": [
        "**3) Imputing Missing Values**"
      ],
      "metadata": {
        "id": "bXH-mgv1smwC"
      }
    },
    {
      "cell_type": "code",
      "source": [
        "imputer_num = SimpleImputer(strategy='mean')\n",
        "imputer_cat = SimpleImputer(strategy='most_frequent')\n",
        "\n",
        "df[['Age', 'Income']] = imputer_num.fit_transform(df[['Age', 'Income']])\n",
        "\n",
        "df['Education'] = imputer_cat.fit_transform(df[['Education']])\n",
        "print(df)"
      ],
      "metadata": {
        "colab": {
          "base_uri": "https://localhost:8080/"
        },
        "id": "09f9X0IOsomv",
        "outputId": "3ed22860-a07d-4a40-ebfe-5197b1514fce"
      },
      "execution_count": 3,
      "outputs": [
        {
          "output_type": "stream",
          "name": "stdout",
          "text": [
            "    Age   Income Education\n",
            "0  22.0  48000.0  Bachelor\n",
            "1  28.0  55000.0    Master\n",
            "2  35.2  60000.0  Bachelor\n",
            "3  31.0  65600.0       PhD\n",
            "4  45.0  75000.0      None\n",
            "5  50.0  90000.0    Master\n"
          ]
        }
      ]
    },
    {
      "cell_type": "markdown",
      "source": [
        "**4) Handling Missing Values and Mathematical Operations**"
      ],
      "metadata": {
        "id": "-MGUpRx6stVm"
      }
    },
    {
      "cell_type": "code",
      "source": [
        "total_income = df['Income'].sum()\n",
        "print(\"Total Income:\", total_income)"
      ],
      "metadata": {
        "colab": {
          "base_uri": "https://localhost:8080/"
        },
        "id": "dLNHUqaJst4O",
        "outputId": "492547f2-2d79-42b7-9e1f-2395dff5fead"
      },
      "execution_count": 4,
      "outputs": [
        {
          "output_type": "stream",
          "name": "stdout",
          "text": [
            "Total Income: 393600.0\n"
          ]
        }
      ]
    },
    {
      "cell_type": "markdown",
      "source": [
        "**5) Combining Data into DataFrames**"
      ],
      "metadata": {
        "id": "lP8hb9kWsy06"
      }
    },
    {
      "cell_type": "code",
      "source": [
        "df1 = pd.DataFrame({'A': [1, 2, 3]})\n",
        "df2 = pd.DataFrame({'A': [4, None, 6]})\n",
        "\n",
        "combined_df = pd.concat([df1, df2], ignore_index=True)\n",
        "print(combined_df)"
      ],
      "metadata": {
        "colab": {
          "base_uri": "https://localhost:8080/"
        },
        "id": "BvYrp-TLs4fd",
        "outputId": "30b1f227-385e-490f-a915-d6639ef4291f"
      },
      "execution_count": 5,
      "outputs": [
        {
          "output_type": "stream",
          "name": "stdout",
          "text": [
            "     A\n",
            "0  1.0\n",
            "1  2.0\n",
            "2  3.0\n",
            "3  4.0\n",
            "4  NaN\n",
            "5  6.0\n"
          ]
        }
      ]
    }
  ]
}