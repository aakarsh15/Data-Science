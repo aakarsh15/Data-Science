{
  "cells": [
    {
      "cell_type": "markdown",
      "metadata": {
        "id": "xc1Sanl4Gijt"
      },
      "source": [
        "##Name- Akarsh Singh\n",
        "\n",
        "##Roll No.- 59\n",
        "\n",
        "##PRN- 1032212466\n",
        "\n",
        "##Panel- D                        Batch- D2\n",
        "\n",
        "##Subject- DEC\n",
        "\n",
        "##Assignment No.- 6\n",
        "\n",
        "#Association Mining"
      ]
    },
    {
      "cell_type": "code",
      "execution_count": null,
      "metadata": {
        "colab": {
          "base_uri": "https://localhost:8080/"
        },
        "id": "ZQ2girbRRFx4",
        "outputId": "337590d7-dfcc-48d3-df7c-272a680e88b4"
      },
      "outputs": [
        {
          "name": "stderr",
          "output_type": "stream",
          "text": [
            "/usr/local/lib/python3.10/dist-packages/ipykernel/ipkernel.py:283: DeprecationWarning: `should_run_async` will not call `transform_cell` automatically in the future. Please pass the result to `transformed_cell` argument and any exception that happen during thetransform in `preprocessing_exc_tuple` in IPython 7.17 and above.\n",
            "  and should_run_async(code)\n"
          ]
        }
      ],
      "source": [
        "import pandas as pd\n",
        "import numpy as np"
      ]
    },
    {
      "cell_type": "code",
      "execution_count": 1,
      "metadata": {
        "colab": {
          "base_uri": "https://localhost:8080/",
          "height": 127
        },
        "id": "LMLv3PvwUDTr",
        "outputId": "0b865ecf-312f-4d15-95d5-f2d2b5f1d990"
      },
      "outputs": [
        {
          "ename": "ModuleNotFoundError",
          "evalue": "No module named 'google'",
          "output_type": "error",
          "traceback": [
            "\u001b[1;31m---------------------------------------------------------------------------\u001b[0m",
            "\u001b[1;31mModuleNotFoundError\u001b[0m                       Traceback (most recent call last)",
            "\u001b[1;32md:\\College\\TY 5Th sem\\DEC\\PD-59_Akarsh Singh_Association mining 1.ipynb Cell 3\u001b[0m line \u001b[0;36m1\n\u001b[1;32m----> <a href='vscode-notebook-cell:/d%3A/College/TY%205Th%20sem/DEC/PD-59_Akarsh%20Singh_Association%20mining%201.ipynb#W2sZmlsZQ%3D%3D?line=0'>1</a>\u001b[0m \u001b[39mfrom\u001b[39;00m \u001b[39mgoogle\u001b[39;00m\u001b[39m.\u001b[39;00m\u001b[39mcolab\u001b[39;00m \u001b[39mimport\u001b[39;00m files\n\u001b[0;32m      <a href='vscode-notebook-cell:/d%3A/College/TY%205Th%20sem/DEC/PD-59_Akarsh%20Singh_Association%20mining%201.ipynb#W2sZmlsZQ%3D%3D?line=1'>2</a>\u001b[0m uploaded \u001b[39m=\u001b[39m files\u001b[39m.\u001b[39mupload()\n",
            "\u001b[1;31mModuleNotFoundError\u001b[0m: No module named 'google'"
          ]
        }
      ],
      "source": [
        "from google.colab import files\n",
        "uploaded = files.upload()"
      ]
    },
    {
      "cell_type": "code",
      "execution_count": null,
      "metadata": {
        "colab": {
          "base_uri": "https://localhost:8080/"
        },
        "id": "aqHvXGhdUW1h",
        "outputId": "97d2407e-31b1-4236-e8bb-321c70c6648b"
      },
      "outputs": [
        {
          "name": "stderr",
          "output_type": "stream",
          "text": [
            "/usr/local/lib/python3.10/dist-packages/ipykernel/ipkernel.py:283: DeprecationWarning: `should_run_async` will not call `transform_cell` automatically in the future. Please pass the result to `transformed_cell` argument and any exception that happen during thetransform in `preprocessing_exc_tuple` in IPython 7.17 and above.\n",
            "  and should_run_async(code)\n"
          ]
        }
      ],
      "source": [
        "df = pd.read_csv(\"store_data.csv\")"
      ]
    },
    {
      "cell_type": "code",
      "execution_count": null,
      "metadata": {
        "colab": {
          "base_uri": "https://localhost:8080/"
        },
        "id": "C7Pb5TbkVNuw",
        "outputId": "3629887d-c70f-4035-e582-2ed72bbc91c5"
      },
      "outputs": [
        {
          "name": "stdout",
          "output_type": "stream",
          "text": [
            "<class 'pandas.core.frame.DataFrame'>\n",
            "RangeIndex: 7500 entries, 0 to 7499\n",
            "Data columns (total 20 columns):\n",
            " #   Column             Non-Null Count  Dtype  \n",
            "---  ------             --------------  -----  \n",
            " 0   shrimp             7500 non-null   object \n",
            " 1   almonds            5746 non-null   object \n",
            " 2   avocado            4388 non-null   object \n",
            " 3   vegetables mix     3344 non-null   object \n",
            " 4   green grapes       2528 non-null   object \n",
            " 5   whole weat flour   1863 non-null   object \n",
            " 6   yams               1368 non-null   object \n",
            " 7   cottage cheese     980 non-null    object \n",
            " 8   energy drink       653 non-null    object \n",
            " 9   tomato juice       394 non-null    object \n",
            " 10  low fat yogurt     255 non-null    object \n",
            " 11  green tea          153 non-null    object \n",
            " 12  honey              86 non-null     object \n",
            " 13  salad              46 non-null     object \n",
            " 14  mineral water      24 non-null     object \n",
            " 15  salmon             7 non-null      object \n",
            " 16  antioxydant juice  3 non-null      object \n",
            " 17  frozen smoothie    3 non-null      object \n",
            " 18  spinach            2 non-null      object \n",
            " 19  olive oil          0 non-null      float64\n",
            "dtypes: float64(1), object(19)\n",
            "memory usage: 1.1+ MB\n"
          ]
        },
        {
          "name": "stderr",
          "output_type": "stream",
          "text": [
            "/usr/local/lib/python3.10/dist-packages/ipykernel/ipkernel.py:283: DeprecationWarning: `should_run_async` will not call `transform_cell` automatically in the future. Please pass the result to `transformed_cell` argument and any exception that happen during thetransform in `preprocessing_exc_tuple` in IPython 7.17 and above.\n",
            "  and should_run_async(code)\n"
          ]
        }
      ],
      "source": [
        "df.info()"
      ]
    },
    {
      "cell_type": "code",
      "execution_count": null,
      "metadata": {
        "colab": {
          "base_uri": "https://localhost:8080/"
        },
        "id": "X7_aUmlSV0eE",
        "outputId": "4420e0c7-e352-45bb-df7f-d7e243dfdea4"
      },
      "outputs": [
        {
          "name": "stderr",
          "output_type": "stream",
          "text": [
            "/usr/local/lib/python3.10/dist-packages/ipykernel/ipkernel.py:283: DeprecationWarning: `should_run_async` will not call `transform_cell` automatically in the future. Please pass the result to `transformed_cell` argument and any exception that happen during thetransform in `preprocessing_exc_tuple` in IPython 7.17 and above.\n",
            "  and should_run_async(code)\n"
          ]
        }
      ],
      "source": [
        "from mlxtend.preprocessing import TransactionEncoder\n",
        "from mlxtend.frequent_patterns import apriori, association_rules"
      ]
    },
    {
      "cell_type": "code",
      "execution_count": null,
      "metadata": {
        "colab": {
          "base_uri": "https://localhost:8080/"
        },
        "id": "wxiGIcyKXqXZ",
        "outputId": "d20b4510-ec4a-405a-e1cd-a880995f5530"
      },
      "outputs": [
        {
          "name": "stderr",
          "output_type": "stream",
          "text": [
            "/usr/local/lib/python3.10/dist-packages/ipykernel/ipkernel.py:283: DeprecationWarning: `should_run_async` will not call `transform_cell` automatically in the future. Please pass the result to `transformed_cell` argument and any exception that happen during thetransform in `preprocessing_exc_tuple` in IPython 7.17 and above.\n",
            "  and should_run_async(code)\n"
          ]
        }
      ],
      "source": [
        "# Load your dataset and drop the last column since it contains only NaN values\n",
        "df = df.iloc[:, :-1]\n",
        "\n",
        "# Convert non-null entries to strings\n",
        "df = df.applymap(lambda x: str(x) if pd.notnull(x) else '')\n",
        "\n",
        "# Now, let's handle missing values by replacing NaN with an empty string\n",
        "df.fillna('', inplace=True)\n",
        "\n",
        "# Convert the DataFrame to a list of lists, where each list represents a transaction\n",
        "transactions = df.values.tolist()"
      ]
    },
    {
      "cell_type": "code",
      "execution_count": null,
      "metadata": {
        "colab": {
          "base_uri": "https://localhost:8080/"
        },
        "id": "vHyWRG_hXqd9",
        "outputId": "f02899aa-0ce6-4c9d-883b-2f1f77989d5f"
      },
      "outputs": [
        {
          "name": "stderr",
          "output_type": "stream",
          "text": [
            "/usr/local/lib/python3.10/dist-packages/ipykernel/ipkernel.py:283: DeprecationWarning: `should_run_async` will not call `transform_cell` automatically in the future. Please pass the result to `transformed_cell` argument and any exception that happen during thetransform in `preprocessing_exc_tuple` in IPython 7.17 and above.\n",
            "  and should_run_async(code)\n"
          ]
        }
      ],
      "source": [
        "# Initialize and fit the TransactionEncoder\n",
        "te = TransactionEncoder()\n",
        "te_ary = te.fit(transactions).transform(transactions)\n",
        "\n",
        "# Convert the encoded transactions to a DataFrame\n",
        "df_encoded = pd.DataFrame(te_ary, columns=te.columns_)\n",
        "\n",
        "# Find frequent itemsets with a minimum support of 0.01 (adjust as needed)\n",
        "frequent_itemsets = apriori(df_encoded, min_support=0.15, use_colnames=True)\n",
        "\n",
        "# Generate association rules with a minimum confidence of 0.5 (adjust as needed)\n",
        "rules = association_rules(frequent_itemsets, metric=\"confidence\", min_threshold=0.5)"
      ]
    },
    {
      "cell_type": "code",
      "execution_count": null,
      "metadata": {
        "colab": {
          "base_uri": "https://localhost:8080/"
        },
        "id": "77Zxs5HvXweX",
        "outputId": "2986b701-496a-40fa-8e26-5212dc9e4733"
      },
      "outputs": [
        {
          "name": "stdout",
          "output_type": "stream",
          "text": [
            "Frequent Itemsets:\n",
            "     support           itemsets\n",
            "0   0.999733                 ()\n",
            "1   0.163867        (chocolate)\n",
            "2   0.179733             (eggs)\n",
            "3   0.170933     (french fries)\n",
            "4   0.238267    (mineral water)\n",
            "5   0.174133        (spaghetti)\n",
            "6   0.163733      (, chocolate)\n",
            "7   0.179733           (, eggs)\n",
            "8   0.170800   (, french fries)\n",
            "9   0.238133  (, mineral water)\n",
            "10  0.174000      (, spaghetti)\n",
            "\n",
            "Association Rules:\n",
            "       antecedents consequents  antecedent support  consequent support  \\\n",
            "0      (chocolate)          ()            0.163867            0.999733   \n",
            "1           (eggs)          ()            0.179733            0.999733   \n",
            "2   (french fries)          ()            0.170933            0.999733   \n",
            "3  (mineral water)          ()            0.238267            0.999733   \n",
            "4      (spaghetti)          ()            0.174133            0.999733   \n",
            "\n",
            "    support  confidence      lift  leverage  conviction  zhangs_metric  \n",
            "0  0.163733    0.999186  0.999453 -0.000090    0.327733      -0.000654  \n",
            "1  0.179733    1.000000  1.000267  0.000048         inf       0.000325  \n",
            "2  0.170800    0.999220  0.999486 -0.000088    0.341867      -0.000619  \n",
            "3  0.238133    0.999440  0.999707 -0.000070    0.476533      -0.000385  \n",
            "4  0.174000    0.999234  0.999501 -0.000087    0.348267      -0.000604  \n"
          ]
        },
        {
          "name": "stderr",
          "output_type": "stream",
          "text": [
            "/usr/local/lib/python3.10/dist-packages/ipykernel/ipkernel.py:283: DeprecationWarning: `should_run_async` will not call `transform_cell` automatically in the future. Please pass the result to `transformed_cell` argument and any exception that happen during thetransform in `preprocessing_exc_tuple` in IPython 7.17 and above.\n",
            "  and should_run_async(code)\n"
          ]
        }
      ],
      "source": [
        "print(\"Frequent Itemsets:\")\n",
        "print(frequent_itemsets)\n",
        "\n",
        "print(\"\\nAssociation Rules:\")\n",
        "print(rules)"
      ]
    },
    {
      "cell_type": "code",
      "execution_count": null,
      "metadata": {
        "colab": {
          "base_uri": "https://localhost:8080/",
          "height": 1000
        },
        "id": "Bpws070VXzS9",
        "outputId": "e63285f2-9725-4e1c-d54e-63ecc4b9a9f0"
      },
      "outputs": [
        {
          "name": "stderr",
          "output_type": "stream",
          "text": [
            "/usr/local/lib/python3.10/dist-packages/ipykernel/ipkernel.py:283: DeprecationWarning: `should_run_async` will not call `transform_cell` automatically in the future. Please pass the result to `transformed_cell` argument and any exception that happen during thetransform in `preprocessing_exc_tuple` in IPython 7.17 and above.\n",
            "  and should_run_async(code)\n"
          ]
        },
        {
          "data": {
            "image/png": "[encoded data removed]",
            "text/plain": [
              "<Figure size 800x400 with 1 Axes>"
            ]
          },
          "metadata": {},
          "output_type": "display_data"
        },
        {
          "data": {
            "image/png": "[encoded data removed]",
            "text/plain": [
              "<Figure size 800x400 with 1 Axes>"
            ]
          },
          "metadata": {},
          "output_type": "display_data"
        },
        {
          "data": {
            "image/png": "[encoded data removed]",
            "text/plain": [
              "<Figure size 800x400 with 1 Axes>"
            ]
          },
          "metadata": {},
          "output_type": "display_data"
        },
        {
          "data": {
            "image/png": "[encoded data removed]",
            "text/plain": [
              "<Figure size 800x400 with 1 Axes>"
            ]
          },
          "metadata": {},
          "output_type": "display_data"
        },
        {
          "data": {
            "image/png": "[encoded data removed]",
            "text/plain": [
              "<Figure size 800x400 with 1 Axes>"
            ]
          },
          "metadata": {},
          "output_type": "display_data"
        }
      ],
      "source": [
        "import matplotlib.pyplot as plt\n",
        "\n",
        "# Assuming 'rules' is your association rules DataFrame\n",
        "for idx, row in rules.iterrows():\n",
        "    antecedent = ', '.join(row['antecedents'])\n",
        "    consequent = ', '.join(row['consequents'])\n",
        "    support = row['support']\n",
        "    confidence = row['confidence']\n",
        "\n",
        "    # Visualize the association rule\n",
        "    plt.figure(figsize=(8, 4))\n",
        "    plt.bar([antecedent, consequent], [support, confidence], color=['blue', 'green'])\n",
        "    plt.xlabel('Itemset')\n",
        "    plt.ylabel('Value')\n",
        "    plt.title('Association Rule')\n",
        "    plt.show()\n"
      ]
    },
    {
      "cell_type": "code",
      "execution_count": null,
      "metadata": {
        "colab": {
          "base_uri": "https://localhost:8080/"
        },
        "id": "QGmw3HHRX6ie",
        "outputId": "ac4e5ef9-4b5b-4c8e-b1b4-09cd7ddfa375"
      },
      "outputs": [
        {
          "name": "stdout",
          "output_type": "stream",
          "text": [
            "             asparagus  almonds  antioxydant juice  asparagus  avocado  \\\n",
            "0     True       False    False              False      False    False   \n",
            "1     True       False    False              False      False    False   \n",
            "2     True       False    False              False      False     True   \n",
            "3     True       False    False              False      False    False   \n",
            "4     True       False    False              False      False    False   \n",
            "...    ...         ...      ...                ...        ...      ...   \n",
            "7495  True       False    False              False      False    False   \n",
            "7496  True       False    False              False      False    False   \n",
            "7497  True       False    False              False      False    False   \n",
            "7498  True       False    False              False      False    False   \n",
            "7499  True       False    False              False      False    False   \n",
            "\n",
            "      babies food  bacon  barbecue sauce  black tea  ...  turkey  \\\n",
            "0           False  False           False      False  ...   False   \n",
            "1           False  False           False      False  ...   False   \n",
            "2           False  False           False      False  ...    True   \n",
            "3           False  False           False      False  ...   False   \n",
            "4           False  False           False      False  ...   False   \n",
            "...           ...    ...             ...        ...  ...     ...   \n",
            "7495        False  False           False      False  ...   False   \n",
            "7496        False  False           False      False  ...   False   \n",
            "7497        False  False           False      False  ...   False   \n",
            "7498        False  False           False      False  ...   False   \n",
            "7499        False  False           False      False  ...   False   \n",
            "\n",
            "      vegetables mix  water spray  white wine  whole weat flour  \\\n",
            "0              False        False       False             False   \n",
            "1              False        False       False             False   \n",
            "2              False        False       False             False   \n",
            "3              False        False       False             False   \n",
            "4              False        False       False             False   \n",
            "...              ...          ...         ...               ...   \n",
            "7495           False        False       False             False   \n",
            "7496           False        False       False             False   \n",
            "7497           False        False       False             False   \n",
            "7498           False        False       False             False   \n",
            "7499           False        False       False             False   \n",
            "\n",
            "      whole wheat pasta  whole wheat rice   yams  yogurt cake  zucchini  \n",
            "0                 False             False  False        False     False  \n",
            "1                 False             False  False        False     False  \n",
            "2                 False             False  False        False     False  \n",
            "3                 False              True  False        False     False  \n",
            "4                 False             False  False        False     False  \n",
            "...                 ...               ...    ...          ...       ...  \n",
            "7495              False             False  False        False     False  \n",
            "7496              False             False  False        False     False  \n",
            "7497              False             False  False        False     False  \n",
            "7498              False             False  False        False     False  \n",
            "7499              False             False  False         True     False  \n",
            "\n",
            "[7500 rows x 121 columns]\n"
          ]
        },
        {
          "name": "stderr",
          "output_type": "stream",
          "text": [
            "/usr/local/lib/python3.10/dist-packages/ipykernel/ipkernel.py:283: DeprecationWarning: `should_run_async` will not call `transform_cell` automatically in the future. Please pass the result to `transformed_cell` argument and any exception that happen during thetransform in `preprocessing_exc_tuple` in IPython 7.17 and above.\n",
            "  and should_run_async(code)\n"
          ]
        }
      ],
      "source": [
        "print(df_encoded)"
      ]
    },
    {
      "cell_type": "code",
      "execution_count": null,
      "metadata": {
        "colab": {
          "base_uri": "https://localhost:8080/"
        },
        "id": "SgUJTFV-YLv0",
        "outputId": "92d7c086-9ac0-4148-f727-e6c49c3ab7ed"
      },
      "outputs": [
        {
          "name": "stderr",
          "output_type": "stream",
          "text": [
            "/usr/local/lib/python3.10/dist-packages/ipykernel/ipkernel.py:283: DeprecationWarning: `should_run_async` will not call `transform_cell` automatically in the future. Please pass the result to `transformed_cell` argument and any exception that happen during thetransform in `preprocessing_exc_tuple` in IPython 7.17 and above.\n",
            "  and should_run_async(code)\n"
          ]
        }
      ],
      "source": [
        "file2 = pd.read_csv(\"store_data.csv\")"
      ]
    },
    {
      "cell_type": "code",
      "execution_count": null,
      "metadata": {
        "colab": {
          "base_uri": "https://localhost:8080/"
        },
        "id": "eGNNCjJFYZxt",
        "outputId": "7fda611f-b4fd-4f06-cfa0-51979ef63a59"
      },
      "outputs": [
        {
          "name": "stderr",
          "output_type": "stream",
          "text": [
            "/usr/local/lib/python3.10/dist-packages/ipykernel/ipkernel.py:283: DeprecationWarning: `should_run_async` will not call `transform_cell` automatically in the future. Please pass the result to `transformed_cell` argument and any exception that happen during thetransform in `preprocessing_exc_tuple` in IPython 7.17 and above.\n",
            "  and should_run_async(code)\n"
          ]
        }
      ],
      "source": [
        "df1 = pd.DataFrame(file2)"
      ]
    },
    {
      "cell_type": "code",
      "execution_count": null,
      "metadata": {
        "colab": {
          "base_uri": "https://localhost:8080/"
        },
        "id": "YJ02iqrkYcc6",
        "outputId": "4ccf5b4e-3bc6-494c-d8ce-3b7cf0a2e872"
      },
      "outputs": [
        {
          "name": "stdout",
          "output_type": "stream",
          "text": [
            "<class 'pandas.core.frame.DataFrame'>\n",
            "RangeIndex: 7500 entries, 0 to 7499\n",
            "Data columns (total 20 columns):\n",
            " #   Column             Non-Null Count  Dtype  \n",
            "---  ------             --------------  -----  \n",
            " 0   shrimp             7500 non-null   object \n",
            " 1   almonds            5746 non-null   object \n",
            " 2   avocado            4388 non-null   object \n",
            " 3   vegetables mix     3344 non-null   object \n",
            " 4   green grapes       2528 non-null   object \n",
            " 5   whole weat flour   1863 non-null   object \n",
            " 6   yams               1368 non-null   object \n",
            " 7   cottage cheese     980 non-null    object \n",
            " 8   energy drink       653 non-null    object \n",
            " 9   tomato juice       394 non-null    object \n",
            " 10  low fat yogurt     255 non-null    object \n",
            " 11  green tea          153 non-null    object \n",
            " 12  honey              86 non-null     object \n",
            " 13  salad              46 non-null     object \n",
            " 14  mineral water      24 non-null     object \n",
            " 15  salmon             7 non-null      object \n",
            " 16  antioxydant juice  3 non-null      object \n",
            " 17  frozen smoothie    3 non-null      object \n",
            " 18  spinach            2 non-null      object \n",
            " 19  olive oil          0 non-null      float64\n",
            "dtypes: float64(1), object(19)\n",
            "memory usage: 1.1+ MB\n"
          ]
        },
        {
          "name": "stderr",
          "output_type": "stream",
          "text": [
            "/usr/local/lib/python3.10/dist-packages/ipykernel/ipkernel.py:283: DeprecationWarning: `should_run_async` will not call `transform_cell` automatically in the future. Please pass the result to `transformed_cell` argument and any exception that happen during thetransform in `preprocessing_exc_tuple` in IPython 7.17 and above.\n",
            "  and should_run_async(code)\n"
          ]
        }
      ],
      "source": [
        "df1.info()"
      ]
    }
  ],
  "metadata": {
    "colab": {
      "provenance": []
    },
    "kernelspec": {
      "display_name": "Python 3",
      "name": "python3"
    },
    "language_info": {
      "codemirror_mode": {
        "name": "ipython",
        "version": 3
      },
      "file_extension": ".py",
      "mimetype": "text/x-python",
      "name": "python",
      "nbconvert_exporter": "python",
      "pygments_lexer": "ipython3",
      "version": "3.11.0"
    }
  },
  "nbformat": 4,
  "nbformat_minor": 0
}
