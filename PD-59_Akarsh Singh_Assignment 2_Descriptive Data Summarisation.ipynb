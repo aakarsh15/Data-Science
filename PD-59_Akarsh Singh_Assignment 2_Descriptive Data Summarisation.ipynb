{
  "nbformat": 4,
  "nbformat_minor": 0,
  "metadata": {
    "colab": {
      "provenance": []
    },
    "kernelspec": {
      "name": "python3",
      "display_name": "Python 3"
    },
    "language_info": {
      "name": "python"
    }
  },
  "cells": [
    {
      "cell_type": "markdown",
      "source": [
        "Name- Akarsh Singh\n",
        "\n",
        "Roll No.- 59\n",
        "\n",
        "PRN- 1032212466\n",
        "\n",
        "Panel- D                        Batch- D2\n",
        "\n",
        "Subject- DEC\n",
        "\n",
        "Assignment No.- 2"
      ],
      "metadata": {
        "id": "U1kE-RE5pGg8"
      }
    },
    {
      "cell_type": "markdown",
      "source": [
        "***Descriptive Data Summarization***"
      ],
      "metadata": {
        "id": "nHCMRxdcpOUX"
      }
    },
    {
      "cell_type": "markdown",
      "source": [
        "**Measuring The Central Tendency**"
      ],
      "metadata": {
        "id": "L0kDKYTDpK9j"
      }
    },
    {
      "cell_type": "code",
      "source": [
        "import numpy as np\n",
        "import statistics\n",
        "\n",
        "\n",
        "data = [10, 13, 17, 18, 22, 26, 37, 39, 40, 50, 60, 70]\n",
        "\n",
        "mean_value = np.mean(data)\n",
        "median_value = np.median(data)\n",
        "mode_value = statistics.mode(data)\n",
        "print(\"Measuring Central Tendency:\")\n",
        "print(\"Mean:\", mean_value)\n",
        "print(\"Median:\", median_value)\n",
        "print(\"Mode:\", mode_value)\n"
      ],
      "metadata": {
        "colab": {
          "base_uri": "https://localhost:8080/"
        },
        "id": "oQvU0sNMpWPP",
        "outputId": "0da37da5-9f19-46ac-bda4-6a3837e2e52d"
      },
      "execution_count": 2,
      "outputs": [
        {
          "output_type": "stream",
          "name": "stdout",
          "text": [
            "Measuring Central Tendency:\n",
            "Mean: 33.5\n",
            "Median: 31.5\n",
            "Mode: 10\n"
          ]
        }
      ]
    },
    {
      "cell_type": "markdown",
      "source": [
        "**Measuring the dispersion of data (Range, Quartiles, variance, std, etc)**"
      ],
      "metadata": {
        "id": "IvZMEnK0p_mS"
      }
    },
    {
      "cell_type": "code",
      "source": [
        "import numpy as np\n",
        "import statistics\n",
        "\n",
        "data = [6, 10, 13, 15, 18, 28, 30, 40, 45, 48, 50, 70]\n",
        "data_range = np.ptp(data)\n",
        "quartiles = np.percentile(data, [25, 75])\n",
        "iqr = quartiles[1] - quartiles[0]\n",
        "variance_value = np.var(data, ddof=1)  # ddof=1 for sample variance\n",
        "std_deviation = np.std(data, ddof=1)  # ddof=1 for sample standard deviation\n",
        "print(\"\\nMeasuring Dispersion:\")\n",
        "print(\"Range:\", data_range)\n",
        "print(\"Interquartile Range (IQR):\", iqr)\n",
        "print(\"Variance:\", variance_value)\n",
        "print(\"Standard Deviation:\", std_deviation)"
      ],
      "metadata": {
        "colab": {
          "base_uri": "https://localhost:8080/"
        },
        "id": "fUlTs72qqA1I",
        "outputId": "1a7e7320-9bdc-4f03-ccbd-4dff97ee7f7f"
      },
      "execution_count": 3,
      "outputs": [
        {
          "output_type": "stream",
          "name": "stdout",
          "text": [
            "\n",
            "Measuring Dispersion:\n",
            "Range: 64\n",
            "Interquartile Range (IQR): 31.25\n",
            "Variance: 388.44696969696975\n",
            "Standard Deviation: 19.709058062144162\n"
          ]
        }
      ]
    }
  ]
}